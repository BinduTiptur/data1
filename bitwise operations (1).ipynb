{
 "cells": [
  {
   "cell_type": "code",
   "execution_count": 1,
   "id": "d9b47d65",
   "metadata": {},
   "outputs": [],
   "source": [
    "#bitwise operations\n",
    "#and\n",
    "import cv2\n",
    "\n",
    "img1 = cv2.imread(\"ros.jpg\")\n",
    "img2 = cv2.imread(\"rose.jpg\")\n",
    "bitwise_and = cv2.bitwise_and(img2, img1)\n",
    "\n",
    "cv2.imshow(\"bit_and\", bitwise_and)\n",
    "\n",
    "cv2.waitKey(0)\n",
    "cv2.destroyAllWindows()"
   ]
  },
  {
   "cell_type": "code",
   "execution_count": 2,
   "id": "320f1a89",
   "metadata": {},
   "outputs": [
    {
     "data": {
      "text/plain": [
       "<function destroyAllWindows>"
      ]
     },
     "execution_count": 2,
     "metadata": {},
     "output_type": "execute_result"
    }
   ],
   "source": [
    "#or\n",
    "import cv2\n",
    "\n",
    "img1 = cv2.imread(\"ros.jpg\")\n",
    "img2 = cv2.imread(\"rose.jpg\")\n",
    "bitwise_or = cv2.bitwise_or(img2,img1)\n",
    "\n",
    "cv2.imshow(\"bitwise_or\", bitwise_or)\n",
    "\n",
    "cv2.waitKey(0)\n",
    "cv2.destroyAllWindows"
   ]
  },
  {
   "cell_type": "code",
   "execution_count": 3,
   "id": "aba1ad05",
   "metadata": {},
   "outputs": [
    {
     "data": {
      "text/plain": [
       "<function destroyAllWindows>"
      ]
     },
     "execution_count": 3,
     "metadata": {},
     "output_type": "execute_result"
    }
   ],
   "source": [
    "#xor\n",
    "import cv2\n",
    "\n",
    "img1 = cv2.imread(\"ros.jpg\")\n",
    "img2 = cv2.imread(\"rose.jpg\")\n",
    "bitwise_xor = cv2.bitwise_xor(img2,img1)\n",
    "\n",
    "cv2.imshow(\"bitwise_xor\", bitwise_xor)\n",
    "\n",
    "cv2.waitKey(0)\n",
    "cv2.destroyAllWindows"
   ]
  },
  {
   "cell_type": "code",
   "execution_count": 11,
   "id": "f5512caa",
   "metadata": {},
   "outputs": [],
   "source": [
    "#not\n",
    "import cv2\n",
    "\n",
    "img2 = cv2.imread(\"rose.jpg\")\n",
    "bitwise_not = cv2.bitwise_not(img2)\n",
    "\n",
    "cv2.imshow(\"bitwise_not\", bitwise_not)\n",
    "\n",
    "cv2.waitKey(0)\n",
    "cv2.destroyAllWindows()\n",
    " "
   ]
  },
  {
   "cell_type": "code",
   "execution_count": null,
   "id": "75b06871",
   "metadata": {},
   "outputs": [],
   "source": []
  }
 ],
 "metadata": {
  "kernelspec": {
   "display_name": "Python 3 (ipykernel)",
   "language": "python",
   "name": "python3"
  },
  "language_info": {
   "codemirror_mode": {
    "name": "ipython",
    "version": 3
   },
   "file_extension": ".py",
   "mimetype": "text/x-python",
   "name": "python",
   "nbconvert_exporter": "python",
   "pygments_lexer": "ipython3",
   "version": "3.9.7"
  }
 },
 "nbformat": 4,
 "nbformat_minor": 5
}
