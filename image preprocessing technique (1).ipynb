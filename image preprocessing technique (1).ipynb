{
 "cells": [
  {
   "cell_type": "code",
   "execution_count": 1,
   "id": "7803dace",
   "metadata": {},
   "outputs": [
    {
     "data": {
      "text/plain": [
       "-1"
      ]
     },
     "execution_count": 1,
     "metadata": {},
     "output_type": "execute_result"
    }
   ],
   "source": [
    "import cv2\n",
    "import numpy as np\n",
    "\n",
    "def piecewise(img,h,w):\n",
    "    for i in range(h):\n",
    "        for j in range(w):\n",
    "            if(img[i][j] > 105 and img[i][j] < 165):\n",
    "                img[i][j] =10\n",
    "\n",
    "\n",
    "img = cv2.imread('ros.jpg', 0)\n",
    "(h,w) = img.shape[:2]\n",
    "\n",
    "piecewise(img,h,w)\n",
    "\n",
    "cv2.imshow(\"image\",img)\n",
    "cv2.imwrite(\"image.jpg\", img)\n",
    "cv2.waitKey(0)"
   ]
  },
  {
   "cell_type": "code",
   "execution_count": null,
   "id": "813cd471",
   "metadata": {},
   "outputs": [],
   "source": []
  }
 ],
 "metadata": {
  "kernelspec": {
   "display_name": "Python 3 (ipykernel)",
   "language": "python",
   "name": "python3"
  },
  "language_info": {
   "codemirror_mode": {
    "name": "ipython",
    "version": 3
   },
   "file_extension": ".py",
   "mimetype": "text/x-python",
   "name": "python",
   "nbconvert_exporter": "python",
   "pygments_lexer": "ipython3",
   "version": "3.9.7"
  }
 },
 "nbformat": 4,
 "nbformat_minor": 5
}
