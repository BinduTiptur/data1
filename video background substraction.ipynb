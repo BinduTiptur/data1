{
 "cells": [
  {
   "cell_type": "code",
   "execution_count": 1,
   "id": "7e215a20",
   "metadata": {},
   "outputs": [],
   "source": [
    "import cv2  \n",
    "import numpy as np  \n",
    " \n",
    "image1 = cv2.imread('ros.jpg',0)  \n",
    "image2 = cv2.imread('rose.jpg',0)\n",
    "\n",
    "fgbg2 = cv2.createBackgroundSubtractorMOG2();\n",
    "\n",
    "img = cv2.subtract(image1, image2)\n",
    "thresh1 = cv2.adaptiveThreshold(img,255,cv2.ADAPTIVE_THRESH_GAUSSIAN_C,\\\n",
    "            cv2.THRESH_BINARY_INV,11,2)\n",
    "contours, hierarchy = cv2.findContours(thresh1, cv2.RETR_TREE, cv2.CHAIN_APPROX_SIMPLE)\n",
    "image3 = cv2.drawContours(img, contours, -1, (0, 255, 0), 2)\n",
    "\n",
    "fgmask2 = fgbg2.apply(img);\n",
    "cv2.imshow('Sub and Binary Threshold', thresh1) \n",
    "cv2.imshow('MOG2', fgmask2); \n",
    "cv2.imshow('Contours', image3); \n",
    "\n",
    "if cv2.waitKey(0) & 0xff == 27:  \n",
    "    cv2.destroyAllWindows()  "
   ]
  },
  {
   "cell_type": "code",
   "execution_count": null,
   "id": "784a9748",
   "metadata": {},
   "outputs": [],
   "source": []
  }
 ],
 "metadata": {
  "kernelspec": {
   "display_name": "Python 3 (ipykernel)",
   "language": "python",
   "name": "python3"
  },
  "language_info": {
   "codemirror_mode": {
    "name": "ipython",
    "version": 3
   },
   "file_extension": ".py",
   "mimetype": "text/x-python",
   "name": "python",
   "nbconvert_exporter": "python",
   "pygments_lexer": "ipython3",
   "version": "3.9.7"
  }
 },
 "nbformat": 4,
 "nbformat_minor": 5
}
