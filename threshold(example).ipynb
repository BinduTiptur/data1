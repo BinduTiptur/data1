{
 "cells": [
  {
   "cell_type": "code",
   "execution_count": 1,
   "id": "ffc71877",
   "metadata": {},
   "outputs": [],
   "source": [
    "import numpy as np\n",
    "data=[6,4,5,7,8,9,4,3,6,7,2,1,0]\n",
    "thresh=0.1"
   ]
  },
  {
   "cell_type": "code",
   "execution_count": 2,
   "id": "20c5513c",
   "metadata": {},
   "outputs": [
    {
     "name": "stdout",
     "output_type": "stream",
     "text": [
      "4.769230769230769\n"
     ]
    }
   ],
   "source": [
    "print(np.mean(data))"
   ]
  },
  {
   "cell_type": "code",
   "execution_count": 3,
   "id": "516cdb17",
   "metadata": {},
   "outputs": [],
   "source": [
    "mean_data=np.mean(data)"
   ]
  },
  {
   "cell_type": "code",
   "execution_count": 6,
   "id": "228c347d",
   "metadata": {},
   "outputs": [
    {
     "name": "stdout",
     "output_type": "stream",
     "text": [
      "13 4.769230769230769\n"
     ]
    }
   ],
   "source": [
    "print(len(data),mean_data)"
   ]
  },
  {
   "cell_type": "code",
   "execution_count": 44,
   "id": "e5d19cb9",
   "metadata": {},
   "outputs": [],
   "source": [
    "diff_avg=mean_data\n",
    "while diff_avg < thresh:\n",
    "    data_one=[]\n",
    "    data_two=[]\n",
    "    for i in range (len(data)):\n",
    "        if data[i] < mean_data:\n",
    "            data_one.append(data[i])\n",
    "        else:\n",
    "            data_two.append(data[i])\n",
    "            mu_one=np.mean(data_one)\n",
    "            mu_two=np.mean(data_two)\n",
    "            avg_mu=(mu_one+mu_two)/2\n",
    "            diff_avg=mean_data - avg_mu\n",
    "            print(diff_avg)"
   ]
  },
  {
   "cell_type": "code",
   "execution_count": 42,
   "id": "dadc933f",
   "metadata": {},
   "outputs": [
    {
     "name": "stdout",
     "output_type": "stream",
     "text": [
      "4.769230769230769\n",
      "4.769230769230769\n",
      "[4, 4, 3, 2, 1, 0]\n",
      "[6, 5, 7, 8, 9, 6, 7]\n",
      "2.3333333333333335\n",
      "6.857142857142857\n",
      "4.595238095238095\n"
     ]
    }
   ],
   "source": [
    "print(diff_avg)\n",
    "print(mean_data)\n",
    "print(data_one)\n",
    "print(data_two)\n",
    "print(mu_one)\n",
    "print(mu_two)\n",
    "print(avg_mu)"
   ]
  },
  {
   "cell_type": "code",
   "execution_count": null,
   "id": "c554f1cf",
   "metadata": {},
   "outputs": [],
   "source": []
  },
  {
   "cell_type": "code",
   "execution_count": null,
   "id": "9f9bf6ac",
   "metadata": {},
   "outputs": [],
   "source": []
  }
 ],
 "metadata": {
  "kernelspec": {
   "display_name": "Python 3 (ipykernel)",
   "language": "python",
   "name": "python3"
  },
  "language_info": {
   "codemirror_mode": {
    "name": "ipython",
    "version": 3
   },
   "file_extension": ".py",
   "mimetype": "text/x-python",
   "name": "python",
   "nbconvert_exporter": "python",
   "pygments_lexer": "ipython3",
   "version": "3.9.7"
  }
 },
 "nbformat": 4,
 "nbformat_minor": 5
}
