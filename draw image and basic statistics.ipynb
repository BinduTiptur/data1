{
 "cells": [
  {
   "cell_type": "code",
   "execution_count": null,
   "id": "1ed32bf9",
   "metadata": {},
   "outputs": [],
   "source": [
    "#to draw an image\n",
    "import numpy as np\n",
    "from skimage import data\n",
    "from skimage.viewer import ImageViewer\n",
    "import matplotlib.pyplot as plt\n",
    "image =data.horse()  \n",
    "viewer = ImageViewer(image)\n",
    "viewer.show()\n"
   ]
  },
  {
   "cell_type": "code",
   "execution_count": null,
   "id": "92bb4cf8",
   "metadata": {},
   "outputs": [],
   "source": [
    "#basic statistics\n",
    "\n",
    "from PIL import Image,ImageStat\n",
    "im=Image.open(\"im.jpg\")\n",
    "stat=ImageStat.Stat(im)\n",
    "print(stt.mean)\n"
   ]
  },
  {
   "cell_type": "code",
   "execution_count": null,
   "id": "4d7034d1",
   "metadata": {},
   "outputs": [],
   "source": [
    "from PIL import Image,ImageStat\n",
    "im=Image.open('im.jpg')\n",
    "stat=ImageStat.Stat(im)\n",
    "print(stat.stddev)\n"
   ]
  },
  {
   "cell_type": "code",
   "execution_count": null,
   "id": "59b33b2a",
   "metadata": {},
   "outputs": [],
   "source": [
    "from PIL import Image,ImageStat\n",
    "im=Image.open('im.jpg')\n",
    "stat=ImageStat.Stat(im)\n",
    "print(stat.median)\n"
   ]
  },
  {
   "cell_type": "code",
   "execution_count": null,
   "id": "1791dd55",
   "metadata": {},
   "outputs": [],
   "source": []
  }
 ],
 "metadata": {
  "kernelspec": {
   "display_name": "Python 3 (ipykernel)",
   "language": "python",
   "name": "python3"
  },
  "language_info": {
   "codemirror_mode": {
    "name": "ipython",
    "version": 3
   },
   "file_extension": ".py",
   "mimetype": "text/x-python",
   "name": "python",
   "nbconvert_exporter": "python",
   "pygments_lexer": "ipython3",
   "version": "3.9.7"
  }
 },
 "nbformat": 4,
 "nbformat_minor": 5
}
